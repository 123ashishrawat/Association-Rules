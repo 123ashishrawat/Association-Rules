{
 "cells": [
  {
   "cell_type": "code",
   "execution_count": 1,
   "id": "99678bd0",
   "metadata": {},
   "outputs": [],
   "source": [
    "from mlxtend.frequent_patterns import apriori\n",
    "from mlxtend.frequent_patterns import association_rules\n",
    "import pandas as pd\n",
    "import warnings"
   ]
  },
  {
   "cell_type": "code",
   "execution_count": 2,
   "id": "b6cfad51",
   "metadata": {},
   "outputs": [],
   "source": [
    "# Load your dataset into a DataFrame\n",
    "data = pd.read_csv('book.csv')"
   ]
  },
  {
   "cell_type": "code",
   "execution_count": 3,
   "id": "623554fe",
   "metadata": {},
   "outputs": [],
   "source": [
    "# Define a function to generate association rules for given support and confidence\n",
    "def generate_rules(support, confidence):\n",
    "    frequent_itemsets = apriori(data, min_support=support, use_colnames=True)\n",
    "    rules = association_rules(frequent_itemsets, metric=\"confidence\", min_threshold=confidence)\n",
    "    return rules"
   ]
  },
  {
   "cell_type": "code",
   "execution_count": 4,
   "id": "30ebfb86",
   "metadata": {},
   "outputs": [],
   "source": [
    "# Try different support and confidence values\n",
    "support_values = [0.1, 0.2, 0.3]\n",
    "confidence_values = [0.6, 0.7, 0.8]"
   ]
  },
  {
   "cell_type": "code",
   "execution_count": 5,
   "id": "7011c6e6",
   "metadata": {},
   "outputs": [
    {
     "name": "stdout",
     "output_type": "stream",
     "text": [
      "Support=0.1, Confidence=0.6\n",
      "Number of rules: 30\n",
      "             antecedents consequents  antecedent support  consequent support  \\\n",
      "0             (YouthBks)  (ChildBks)              0.2475               0.423   \n",
      "1             (ChildBks)   (CookBks)              0.4230               0.431   \n",
      "2             (DoItYBks)  (ChildBks)              0.2820               0.423   \n",
      "3               (RefBks)  (ChildBks)              0.2145               0.423   \n",
      "4               (ArtBks)  (ChildBks)              0.2410               0.423   \n",
      "5              (GeogBks)  (ChildBks)              0.2760               0.423   \n",
      "6             (YouthBks)   (CookBks)              0.2475               0.431   \n",
      "7             (DoItYBks)   (CookBks)              0.2820               0.431   \n",
      "8               (RefBks)   (CookBks)              0.2145               0.431   \n",
      "9               (ArtBks)   (CookBks)              0.2410               0.431   \n",
      "10             (GeogBks)   (CookBks)              0.2760               0.431   \n",
      "11            (ItalCook)   (CookBks)              0.1135               0.431   \n",
      "12   (CookBks, YouthBks)  (ChildBks)              0.1620               0.423   \n",
      "13  (YouthBks, ChildBks)   (CookBks)              0.1650               0.431   \n",
      "14   (CookBks, DoItYBks)  (ChildBks)              0.1875               0.423   \n",
      "15  (DoItYBks, ChildBks)   (CookBks)              0.1840               0.431   \n",
      "16     (CookBks, RefBks)  (ChildBks)              0.1525               0.423   \n",
      "17    (ChildBks, RefBks)   (CookBks)              0.1515               0.431   \n",
      "18     (CookBks, ArtBks)  (ChildBks)              0.1670               0.423   \n",
      "19    (ArtBks, ChildBks)   (CookBks)              0.1625               0.431   \n",
      "20    (CookBks, GeogBks)  (ChildBks)              0.1925               0.423   \n",
      "21   (ChildBks, GeogBks)   (CookBks)              0.1950               0.431   \n",
      "22   (DoItYBks, GeogBks)  (ChildBks)              0.1325               0.423   \n",
      "23    (ArtBks, ChildBks)   (GeogBks)              0.1625               0.276   \n",
      "24     (ArtBks, GeogBks)  (ChildBks)              0.1275               0.423   \n",
      "25     (CookBks, ArtBks)  (DoItYBks)              0.1670               0.282   \n",
      "26    (DoItYBks, ArtBks)   (CookBks)              0.1235               0.431   \n",
      "27   (DoItYBks, GeogBks)   (CookBks)              0.1325               0.431   \n",
      "28     (CookBks, ArtBks)   (GeogBks)              0.1670               0.276   \n",
      "29     (ArtBks, GeogBks)   (CookBks)              0.1275               0.431   \n",
      "\n",
      "    support  confidence      lift  leverage  conviction  zhangs_metric  \n",
      "0    0.1650    0.666667  1.576044  0.060308    1.731000       0.485714  \n",
      "1    0.2560    0.605201  1.404179  0.073687    1.441240       0.498856  \n",
      "2    0.1840    0.652482  1.542511  0.064714    1.660347       0.489842  \n",
      "3    0.1515    0.706294  1.669725  0.060767    1.964548       0.510629  \n",
      "4    0.1625    0.674274  1.594028  0.060557    1.771427       0.490986  \n",
      "5    0.1950    0.706522  1.670264  0.078252    1.966074       0.554271  \n",
      "6    0.1620    0.654545  1.518667  0.055328    1.647105       0.453858  \n",
      "7    0.1875    0.664894  1.542677  0.065958    1.697968       0.489939  \n",
      "8    0.1525    0.710956  1.649549  0.060050    1.968556       0.501303  \n",
      "9    0.1670    0.692946  1.607763  0.063129    1.853095       0.498047  \n",
      "10   0.1925    0.697464  1.618245  0.073544    1.880766       0.527689  \n",
      "11   0.1135    1.000000  2.320186  0.064582         inf       0.641850  \n",
      "12   0.1290    0.796296  1.882497  0.060474    2.832545       0.559416  \n",
      "13   0.1290    0.781818  1.813963  0.057885    2.607917       0.537390  \n",
      "14   0.1460    0.778667  1.840820  0.066687    2.606928       0.562171  \n",
      "15   0.1460    0.793478  1.841017  0.066696    2.755158       0.559831  \n",
      "16   0.1225    0.803279  1.899004  0.057993    2.933083       0.558594  \n",
      "17   0.1225    0.808581  1.876058  0.057204    2.972534       0.550345  \n",
      "18   0.1265    0.757485  1.790745  0.055859    2.379235       0.530100  \n",
      "19   0.1265    0.778462  1.806175  0.056462    2.568403       0.532948  \n",
      "20   0.1495    0.776623  1.835989  0.068072    2.583081       0.563882  \n",
      "21   0.1495    0.766667  1.778809  0.065455    2.438571       0.543883  \n",
      "22   0.1045    0.788679  1.864490  0.048452    2.730446       0.534479  \n",
      "23   0.1020    0.627692  2.274247  0.057150    1.944628       0.669008  \n",
      "24   0.1020    0.800000  1.891253  0.048067    2.885000       0.540115  \n",
      "25   0.1015    0.607784  2.155264  0.054406    1.830626       0.643481  \n",
      "26   0.1015    0.821862  1.906873  0.048272    3.194159       0.542591  \n",
      "27   0.1085    0.818868  1.899926  0.051392    3.141354       0.546010  \n",
      "28   0.1035    0.619760  2.245509  0.057408    1.904063       0.665866  \n",
      "29   0.1035    0.811765  1.883445  0.048547    3.022812       0.537602  \n",
      "Support=0.1, Confidence=0.7\n",
      "Number of rules: 19\n",
      "             antecedents consequents  antecedent support  consequent support  \\\n",
      "0               (RefBks)  (ChildBks)              0.2145               0.423   \n",
      "1              (GeogBks)  (ChildBks)              0.2760               0.423   \n",
      "2               (RefBks)   (CookBks)              0.2145               0.431   \n",
      "3             (ItalCook)   (CookBks)              0.1135               0.431   \n",
      "4    (CookBks, YouthBks)  (ChildBks)              0.1620               0.423   \n",
      "5   (YouthBks, ChildBks)   (CookBks)              0.1650               0.431   \n",
      "6    (CookBks, DoItYBks)  (ChildBks)              0.1875               0.423   \n",
      "7   (DoItYBks, ChildBks)   (CookBks)              0.1840               0.431   \n",
      "8      (CookBks, RefBks)  (ChildBks)              0.1525               0.423   \n",
      "9     (ChildBks, RefBks)   (CookBks)              0.1515               0.431   \n",
      "10     (CookBks, ArtBks)  (ChildBks)              0.1670               0.423   \n",
      "11    (ArtBks, ChildBks)   (CookBks)              0.1625               0.431   \n",
      "12    (CookBks, GeogBks)  (ChildBks)              0.1925               0.423   \n",
      "13   (ChildBks, GeogBks)   (CookBks)              0.1950               0.431   \n",
      "14   (DoItYBks, GeogBks)  (ChildBks)              0.1325               0.423   \n",
      "15     (ArtBks, GeogBks)  (ChildBks)              0.1275               0.423   \n",
      "16    (DoItYBks, ArtBks)   (CookBks)              0.1235               0.431   \n",
      "17   (DoItYBks, GeogBks)   (CookBks)              0.1325               0.431   \n",
      "18     (ArtBks, GeogBks)   (CookBks)              0.1275               0.431   \n",
      "\n",
      "    support  confidence      lift  leverage  conviction  zhangs_metric  \n",
      "0    0.1515    0.706294  1.669725  0.060767    1.964548       0.510629  \n",
      "1    0.1950    0.706522  1.670264  0.078252    1.966074       0.554271  \n",
      "2    0.1525    0.710956  1.649549  0.060050    1.968556       0.501303  \n",
      "3    0.1135    1.000000  2.320186  0.064582         inf       0.641850  \n",
      "4    0.1290    0.796296  1.882497  0.060474    2.832545       0.559416  \n",
      "5    0.1290    0.781818  1.813963  0.057885    2.607917       0.537390  \n",
      "6    0.1460    0.778667  1.840820  0.066687    2.606928       0.562171  \n",
      "7    0.1460    0.793478  1.841017  0.066696    2.755158       0.559831  \n",
      "8    0.1225    0.803279  1.899004  0.057993    2.933083       0.558594  \n",
      "9    0.1225    0.808581  1.876058  0.057204    2.972534       0.550345  \n",
      "10   0.1265    0.757485  1.790745  0.055859    2.379235       0.530100  \n",
      "11   0.1265    0.778462  1.806175  0.056462    2.568403       0.532948  \n",
      "12   0.1495    0.776623  1.835989  0.068072    2.583081       0.563882  \n",
      "13   0.1495    0.766667  1.778809  0.065455    2.438571       0.543883  \n",
      "14   0.1045    0.788679  1.864490  0.048452    2.730446       0.534479  \n",
      "15   0.1020    0.800000  1.891253  0.048067    2.885000       0.540115  \n",
      "16   0.1015    0.821862  1.906873  0.048272    3.194159       0.542591  \n",
      "17   0.1085    0.818868  1.899926  0.051392    3.141354       0.546010  \n",
      "18   0.1035    0.811765  1.883445  0.048547    3.022812       0.537602  \n",
      "Support=0.1, Confidence=0.8\n",
      "Number of rules: 6\n",
      "           antecedents consequents  antecedent support  consequent support  \\\n",
      "0           (ItalCook)   (CookBks)              0.1135               0.431   \n",
      "1    (CookBks, RefBks)  (ChildBks)              0.1525               0.423   \n",
      "2   (ChildBks, RefBks)   (CookBks)              0.1515               0.431   \n",
      "3   (DoItYBks, ArtBks)   (CookBks)              0.1235               0.431   \n",
      "4  (DoItYBks, GeogBks)   (CookBks)              0.1325               0.431   \n",
      "5    (ArtBks, GeogBks)   (CookBks)              0.1275               0.431   \n",
      "\n",
      "   support  confidence      lift  leverage  conviction  zhangs_metric  \n",
      "0   0.1135    1.000000  2.320186  0.064582         inf       0.641850  \n",
      "1   0.1225    0.803279  1.899004  0.057993    2.933083       0.558594  \n",
      "2   0.1225    0.808581  1.876058  0.057204    2.972534       0.550345  \n",
      "3   0.1015    0.821862  1.906873  0.048272    3.194159       0.542591  \n",
      "4   0.1085    0.818868  1.899926  0.051392    3.141354       0.546010  \n",
      "5   0.1035    0.811765  1.883445  0.048547    3.022812       0.537602  \n",
      "Support=0.2, Confidence=0.6\n",
      "Number of rules: 1\n",
      "  antecedents consequents  antecedent support  consequent support  support  \\\n",
      "0  (ChildBks)   (CookBks)               0.423               0.431    0.256   \n",
      "\n",
      "   confidence      lift  leverage  conviction  zhangs_metric  \n",
      "0    0.605201  1.404179  0.073687     1.44124       0.498856  \n",
      "Support=0.2, Confidence=0.7\n",
      "Number of rules: 0\n",
      "Empty DataFrame\n",
      "Columns: [antecedents, consequents, antecedent support, consequent support, support, confidence, lift, leverage, conviction, zhangs_metric]\n",
      "Index: []\n",
      "Support=0.2, Confidence=0.8\n"
     ]
    },
    {
     "name": "stderr",
     "output_type": "stream",
     "text": [
      "C:\\Users\\India\\AppData\\Roaming\\Python\\Python39\\site-packages\\mlxtend\\frequent_patterns\\fpcommon.py:110: DeprecationWarning: DataFrames with non-bool types result in worse computationalperformance and their support might be discontinued in the future.Please use a DataFrame with bool type\n",
      "  warnings.warn(\n",
      "C:\\Users\\India\\AppData\\Roaming\\Python\\Python39\\site-packages\\mlxtend\\frequent_patterns\\fpcommon.py:110: DeprecationWarning: DataFrames with non-bool types result in worse computationalperformance and their support might be discontinued in the future.Please use a DataFrame with bool type\n",
      "  warnings.warn(\n",
      "C:\\Users\\India\\AppData\\Roaming\\Python\\Python39\\site-packages\\mlxtend\\frequent_patterns\\fpcommon.py:110: DeprecationWarning: DataFrames with non-bool types result in worse computationalperformance and their support might be discontinued in the future.Please use a DataFrame with bool type\n",
      "  warnings.warn(\n",
      "C:\\Users\\India\\AppData\\Roaming\\Python\\Python39\\site-packages\\mlxtend\\frequent_patterns\\fpcommon.py:110: DeprecationWarning: DataFrames with non-bool types result in worse computationalperformance and their support might be discontinued in the future.Please use a DataFrame with bool type\n",
      "  warnings.warn(\n",
      "C:\\Users\\India\\AppData\\Roaming\\Python\\Python39\\site-packages\\mlxtend\\frequent_patterns\\fpcommon.py:110: DeprecationWarning: DataFrames with non-bool types result in worse computationalperformance and their support might be discontinued in the future.Please use a DataFrame with bool type\n",
      "  warnings.warn(\n",
      "C:\\Users\\India\\AppData\\Roaming\\Python\\Python39\\site-packages\\mlxtend\\frequent_patterns\\fpcommon.py:110: DeprecationWarning: DataFrames with non-bool types result in worse computationalperformance and their support might be discontinued in the future.Please use a DataFrame with bool type\n",
      "  warnings.warn(\n"
     ]
    },
    {
     "name": "stdout",
     "output_type": "stream",
     "text": [
      "Number of rules: 0\n",
      "Empty DataFrame\n",
      "Columns: [antecedents, consequents, antecedent support, consequent support, support, confidence, lift, leverage, conviction, zhangs_metric]\n",
      "Index: []\n",
      "Support=0.3, Confidence=0.6\n",
      "Number of rules: 0\n",
      "Empty DataFrame\n",
      "Columns: [antecedents, consequents, antecedent support, consequent support, support, confidence, lift, leverage, conviction, zhangs_metric]\n",
      "Index: []\n",
      "Support=0.3, Confidence=0.7\n",
      "Number of rules: 0\n",
      "Empty DataFrame\n",
      "Columns: [antecedents, consequents, antecedent support, consequent support, support, confidence, lift, leverage, conviction, zhangs_metric]\n",
      "Index: []\n",
      "Support=0.3, Confidence=0.8\n",
      "Number of rules: 0\n",
      "Empty DataFrame\n",
      "Columns: [antecedents, consequents, antecedent support, consequent support, support, confidence, lift, leverage, conviction, zhangs_metric]\n",
      "Index: []\n"
     ]
    },
    {
     "name": "stderr",
     "output_type": "stream",
     "text": [
      "C:\\Users\\India\\AppData\\Roaming\\Python\\Python39\\site-packages\\mlxtend\\frequent_patterns\\fpcommon.py:110: DeprecationWarning: DataFrames with non-bool types result in worse computationalperformance and their support might be discontinued in the future.Please use a DataFrame with bool type\n",
      "  warnings.warn(\n",
      "C:\\Users\\India\\AppData\\Roaming\\Python\\Python39\\site-packages\\mlxtend\\frequent_patterns\\fpcommon.py:110: DeprecationWarning: DataFrames with non-bool types result in worse computationalperformance and their support might be discontinued in the future.Please use a DataFrame with bool type\n",
      "  warnings.warn(\n",
      "C:\\Users\\India\\AppData\\Roaming\\Python\\Python39\\site-packages\\mlxtend\\frequent_patterns\\fpcommon.py:110: DeprecationWarning: DataFrames with non-bool types result in worse computationalperformance and their support might be discontinued in the future.Please use a DataFrame with bool type\n",
      "  warnings.warn(\n"
     ]
    }
   ],
   "source": [
    "for support in support_values:\n",
    "    for confidence in confidence_values:\n",
    "        print(f\"Support={support}, Confidence={confidence}\")\n",
    "        rules = generate_rules(support, confidence)\n",
    "        print(\"Number of rules:\", len(rules))\n",
    "        print(rules)"
   ]
  },
  {
   "cell_type": "code",
   "execution_count": 6,
   "id": "0a9d1052",
   "metadata": {},
   "outputs": [],
   "source": [
    "from mlxtend.frequent_patterns import apriori\n",
    "from mlxtend.frequent_patterns import association_rules\n",
    "import pandas as pd"
   ]
  },
  {
   "cell_type": "code",
   "execution_count": 7,
   "id": "8881d792",
   "metadata": {},
   "outputs": [],
   "source": [
    "# Define the minimum length for itemsets\n",
    "min_length = 2   \n"
   ]
  },
  {
   "cell_type": "code",
   "execution_count": 8,
   "id": "0bc970c0",
   "metadata": {},
   "outputs": [],
   "source": [
    "# Convert the dataset to a boolean DataFrame\n",
    "boolean_data = data.astype(bool)\n"
   ]
  },
  {
   "cell_type": "code",
   "execution_count": 9,
   "id": "a4d90ac5",
   "metadata": {},
   "outputs": [],
   "source": [
    "# Suppress DeprecationWarnings\n",
    "warnings.filterwarnings(\"ignore\", category=DeprecationWarning)"
   ]
  },
  {
   "cell_type": "code",
   "execution_count": 10,
   "id": "2fa25b7c",
   "metadata": {
    "scrolled": true
   },
   "outputs": [],
   "source": [
    "# Generate frequent itemsets\n",
    "frequent_itemsets = apriori(data, min_support=0.1, use_colnames=True)"
   ]
  },
  {
   "cell_type": "code",
   "execution_count": 11,
   "id": "00b32a95",
   "metadata": {},
   "outputs": [],
   "source": [
    "# Filter frequent itemsets based on minimum length\n",
    "filtered_itemsets = frequent_itemsets[frequent_itemsets['itemsets'].apply(lambda x: len(x) >= min_length)]"
   ]
  },
  {
   "cell_type": "code",
   "execution_count": 14,
   "id": "078b5167",
   "metadata": {},
   "outputs": [
    {
     "name": "stderr",
     "output_type": "stream",
     "text": [
      "C:\\Users\\India\\AppData\\Local\\Temp\\ipykernel_8960\\942245801.py:2: SettingWithCopyWarning: \n",
      "A value is trying to be set on a copy of a slice from a DataFrame.\n",
      "Try using .loc[row_indexer,col_indexer] = value instead\n",
      "\n",
      "See the caveats in the documentation: https://pandas.pydata.org/pandas-docs/stable/user_guide/indexing.html#returning-a-view-versus-a-copy\n",
      "  filtered_itemsets.loc[:, 'confidence'] = filtered_itemsets['support'] / apriori(data, min_support=0.1).loc[0, 'support']\n"
     ]
    }
   ],
   "source": [
    "# Calculate confidence manually and filter based on confidence\n",
    "filtered_itemsets.loc[:, 'confidence'] = filtered_itemsets['support'] / apriori(data, min_support=0.1).loc[0, 'support']"
   ]
  },
  {
   "cell_type": "code",
   "execution_count": 15,
   "id": "48a21241",
   "metadata": {},
   "outputs": [],
   "source": [
    "# Filter based on confidence threshold\n",
    "filtered_itemsets = filtered_itemsets[filtered_itemsets['confidence'] >= 0.6]"
   ]
  },
  {
   "cell_type": "code",
   "execution_count": 17,
   "id": "6acec623",
   "metadata": {},
   "outputs": [
    {
     "name": "stdout",
     "output_type": "stream",
     "text": [
      "               itemsets  support  confidence\n",
      "10  (CookBks, ChildBks)    0.256    0.605201\n"
     ]
    }
   ],
   "source": [
    "# Display the filtered itemsets and their confidence\n",
    "print(filtered_itemsets[['itemsets', 'support', 'confidence']])"
   ]
  },
  {
   "cell_type": "code",
   "execution_count": 18,
   "id": "aeced9b5",
   "metadata": {},
   "outputs": [],
   "source": [
    "from mlxtend.frequent_patterns import apriori\n",
    "from mlxtend.frequent_patterns import association_rules\n",
    "import pandas as pd"
   ]
  },
  {
   "cell_type": "code",
   "execution_count": 19,
   "id": "3375ce13",
   "metadata": {},
   "outputs": [],
   "source": [
    "###2) Change the minimum length in Apriori algorithm:"
   ]
  },
  {
   "cell_type": "code",
   "execution_count": 20,
   "id": "abce00bc",
   "metadata": {},
   "outputs": [],
   "source": [
    "# Define the minimum length for itemsets\n",
    "min_length = 2"
   ]
  },
  {
   "cell_type": "code",
   "execution_count": 21,
   "id": "cf3cab4c",
   "metadata": {},
   "outputs": [],
   "source": [
    "# Generate frequent itemsets\n",
    "frequent_itemsets = apriori(data, min_support=0.1, use_colnames=True)"
   ]
  },
  {
   "cell_type": "code",
   "execution_count": 22,
   "id": "4d3912ba",
   "metadata": {},
   "outputs": [],
   "source": [
    "# Filter frequent itemsets based on minimum length\n",
    "filtered_itemsets = frequent_itemsets[frequent_itemsets['itemsets'].apply(lambda x: len(x) >= min_length)]"
   ]
  },
  {
   "cell_type": "code",
   "execution_count": 23,
   "id": "80de0264",
   "metadata": {},
   "outputs": [
    {
     "ename": "KeyError",
     "evalue": "\"frozenset({'YouthBks'})You are likely getting this error because the DataFrame is missing  antecedent and/or consequent  information. You can try using the  `support_only=True` option\"",
     "output_type": "error",
     "traceback": [
      "\u001b[1;31m---------------------------------------------------------------------------\u001b[0m",
      "\u001b[1;31mKeyError\u001b[0m                                  Traceback (most recent call last)",
      "\u001b[1;32m~\\AppData\\Roaming\\Python\\Python39\\site-packages\\mlxtend\\frequent_patterns\\association_rules.py\u001b[0m in \u001b[0;36massociation_rules\u001b[1;34m(df, metric, min_threshold, support_only)\u001b[0m\n\u001b[0;32m    180\u001b[0m                     \u001b[1;32mtry\u001b[0m\u001b[1;33m:\u001b[0m\u001b[1;33m\u001b[0m\u001b[1;33m\u001b[0m\u001b[0m\n\u001b[1;32m--> 181\u001b[1;33m                         \u001b[0msA\u001b[0m \u001b[1;33m=\u001b[0m \u001b[0mfrequent_items_dict\u001b[0m\u001b[1;33m[\u001b[0m\u001b[0mantecedent\u001b[0m\u001b[1;33m]\u001b[0m\u001b[1;33m\u001b[0m\u001b[1;33m\u001b[0m\u001b[0m\n\u001b[0m\u001b[0;32m    182\u001b[0m                         \u001b[0msC\u001b[0m \u001b[1;33m=\u001b[0m \u001b[0mfrequent_items_dict\u001b[0m\u001b[1;33m[\u001b[0m\u001b[0mconsequent\u001b[0m\u001b[1;33m]\u001b[0m\u001b[1;33m\u001b[0m\u001b[1;33m\u001b[0m\u001b[0m\n",
      "\u001b[1;31mKeyError\u001b[0m: frozenset({'YouthBks'})",
      "\nDuring handling of the above exception, another exception occurred:\n",
      "\u001b[1;31mKeyError\u001b[0m                                  Traceback (most recent call last)",
      "\u001b[1;32m~\\AppData\\Local\\Temp\\ipykernel_8960\\1673062263.py\u001b[0m in \u001b[0;36m<module>\u001b[1;34m\u001b[0m\n\u001b[0;32m      1\u001b[0m \u001b[1;31m# Generate association rules\u001b[0m\u001b[1;33m\u001b[0m\u001b[1;33m\u001b[0m\u001b[0m\n\u001b[1;32m----> 2\u001b[1;33m \u001b[0mrules\u001b[0m \u001b[1;33m=\u001b[0m \u001b[0massociation_rules\u001b[0m\u001b[1;33m(\u001b[0m\u001b[0mfiltered_itemsets\u001b[0m\u001b[1;33m,\u001b[0m \u001b[0mmetric\u001b[0m\u001b[1;33m=\u001b[0m\u001b[1;34m\"confidence\"\u001b[0m\u001b[1;33m,\u001b[0m \u001b[0mmin_threshold\u001b[0m\u001b[1;33m=\u001b[0m\u001b[1;36m0.6\u001b[0m\u001b[1;33m)\u001b[0m\u001b[1;33m\u001b[0m\u001b[1;33m\u001b[0m\u001b[0m\n\u001b[0m",
      "\u001b[1;32m~\\AppData\\Roaming\\Python\\Python39\\site-packages\\mlxtend\\frequent_patterns\\association_rules.py\u001b[0m in \u001b[0;36massociation_rules\u001b[1;34m(df, metric, min_threshold, support_only)\u001b[0m\n\u001b[0;32m    190\u001b[0m                             \u001b[1;34m\" `support_only=True` option\"\u001b[0m\u001b[1;33m\u001b[0m\u001b[1;33m\u001b[0m\u001b[0m\n\u001b[0;32m    191\u001b[0m                         )\n\u001b[1;32m--> 192\u001b[1;33m                         \u001b[1;32mraise\u001b[0m \u001b[0mKeyError\u001b[0m\u001b[1;33m(\u001b[0m\u001b[0ms\u001b[0m\u001b[1;33m)\u001b[0m\u001b[1;33m\u001b[0m\u001b[1;33m\u001b[0m\u001b[0m\n\u001b[0m\u001b[0;32m    193\u001b[0m                     \u001b[1;31m# check for the threshold\u001b[0m\u001b[1;33m\u001b[0m\u001b[1;33m\u001b[0m\u001b[0m\n\u001b[0;32m    194\u001b[0m \u001b[1;33m\u001b[0m\u001b[0m\n",
      "\u001b[1;31mKeyError\u001b[0m: \"frozenset({'YouthBks'})You are likely getting this error because the DataFrame is missing  antecedent and/or consequent  information. You can try using the  `support_only=True` option\""
     ]
    }
   ],
   "source": [
    "# Generate association rules\n",
    "rules = association_rules(filtered_itemsets, metric=\"confidence\", min_threshold=0.6)"
   ]
  },
  {
   "cell_type": "code",
   "execution_count": 24,
   "id": "80882750",
   "metadata": {},
   "outputs": [
    {
     "name": "stdout",
     "output_type": "stream",
     "text": [
      "Empty DataFrame\n",
      "Columns: [antecedents, consequents, antecedent support, consequent support, support, confidence, lift, leverage, conviction, zhangs_metric]\n",
      "Index: []\n"
     ]
    }
   ],
   "source": [
    "# Display the filtered rules\n",
    "print(rules)"
   ]
  },
  {
   "cell_type": "code",
   "execution_count": 25,
   "id": "e4e9ec1e",
   "metadata": {},
   "outputs": [
    {
     "data": {
      "image/png": "[encoded data removed]",
      "text/plain": [
       "<Figure size 640x480 with 1 Axes>"
      ]
     },
     "metadata": {},
     "output_type": "display_data"
    }
   ],
   "source": [
    "import matplotlib.pyplot as plt\n",
    "\n",
    "# Scatter plot of support vs. confidence\n",
    "plt.scatter(rules['support'], rules['confidence'], alpha=0.5)\n",
    "plt.xlabel('Support')\n",
    "plt.ylabel('Confidence')\n",
    "plt.title('Support vs. Confidence Scatter Plot')\n",
    "plt.show()"
   ]
  },
  {
   "cell_type": "code",
   "execution_count": null,
   "id": "10a9c03f",
   "metadata": {},
   "outputs": [],
   "source": []
  }
 ],
 "metadata": {
  "kernelspec": {
   "display_name": "Python 3 (ipykernel)",
   "language": "python",
   "name": "python3"
  },
  "language_info": {
   "codemirror_mode": {
    "name": "ipython",
    "version": 3
   },
   "file_extension": ".py",
   "mimetype": "text/x-python",
   "name": "python",
   "nbconvert_exporter": "python",
   "pygments_lexer": "ipython3",
   "version": "3.9.13"
  }
 },
 "nbformat": 4,
 "nbformat_minor": 5
}
